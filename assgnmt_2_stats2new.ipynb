{
  "nbformat": 4,
  "nbformat_minor": 0,
  "metadata": {
    "colab": {
      "provenance": []
    },
    "kernelspec": {
      "name": "python3",
      "display_name": "Python 3"
    },
    "language_info": {
      "name": "python"
    }
  },
  "cells": [
    {
      "cell_type": "code",
      "execution_count": null,
      "metadata": {
        "id": "aPQoXl9kxiOo"
      },
      "outputs": [],
      "source": [
        "import pandas as pd\n",
        "import seaborn as sn\n",
        "import numpy as np\n",
        "import matplotlib.pyplot as plt"
      ]
    },
    {
      "cell_type": "markdown",
      "source": [
        "#**Set 1**"
      ],
      "metadata": {
        "id": "x1Cu8Mez7xKU"
      }
    },
    {
      "cell_type": "markdown",
      "source": [
        "##Q1"
      ],
      "metadata": {
        "id": "Qn8Vtzj579Ki"
      }
    },
    {
      "cell_type": "code",
      "source": [
        "x=['24.23','25.53','25.41','24.14','29.62','28.25','25.81','24.39','40.26','32.95','91.36','25.99','39.42','26.71','35.00']\n",
        "y=pd.DataFrame(x)"
      ],
      "metadata": {
        "id": "GZQ3VZg0yCrL"
      },
      "execution_count": null,
      "outputs": []
    },
    {
      "cell_type": "code",
      "source": [
        "y.describe()\n",
        "#y.mean()"
      ],
      "metadata": {
        "colab": {
          "base_uri": "https://localhost:8080/",
          "height": 175
        },
        "id": "Mw75fwwlzNzM",
        "outputId": "eabbb0b0-ae5d-4b8e-9868-dcf7b2959fd2"
      },
      "execution_count": null,
      "outputs": [
        {
          "output_type": "execute_result",
          "data": {
            "text/plain": [
              "            0\n",
              "count      15\n",
              "unique     15\n",
              "top     24.23\n",
              "freq        1"
            ],
            "text/html": [
              "\n",
              "  <div id=\"df-774d7702-0743-48d1-b16e-b8a8645a1dd3\">\n",
              "    <div class=\"colab-df-container\">\n",
              "      <div>\n",
              "<style scoped>\n",
              "    .dataframe tbody tr th:only-of-type {\n",
              "        vertical-align: middle;\n",
              "    }\n",
              "\n",
              "    .dataframe tbody tr th {\n",
              "        vertical-align: top;\n",
              "    }\n",
              "\n",
              "    .dataframe thead th {\n",
              "        text-align: right;\n",
              "    }\n",
              "</style>\n",
              "<table border=\"1\" class=\"dataframe\">\n",
              "  <thead>\n",
              "    <tr style=\"text-align: right;\">\n",
              "      <th></th>\n",
              "      <th>0</th>\n",
              "    </tr>\n",
              "  </thead>\n",
              "  <tbody>\n",
              "    <tr>\n",
              "      <th>count</th>\n",
              "      <td>15</td>\n",
              "    </tr>\n",
              "    <tr>\n",
              "      <th>unique</th>\n",
              "      <td>15</td>\n",
              "    </tr>\n",
              "    <tr>\n",
              "      <th>top</th>\n",
              "      <td>24.23</td>\n",
              "    </tr>\n",
              "    <tr>\n",
              "      <th>freq</th>\n",
              "      <td>1</td>\n",
              "    </tr>\n",
              "  </tbody>\n",
              "</table>\n",
              "</div>\n",
              "      <button class=\"colab-df-convert\" onclick=\"convertToInteractive('df-774d7702-0743-48d1-b16e-b8a8645a1dd3')\"\n",
              "              title=\"Convert this dataframe to an interactive table.\"\n",
              "              style=\"display:none;\">\n",
              "        \n",
              "  <svg xmlns=\"http://www.w3.org/2000/svg\" height=\"24px\"viewBox=\"0 0 24 24\"\n",
              "       width=\"24px\">\n",
              "    <path d=\"M0 0h24v24H0V0z\" fill=\"none\"/>\n",
              "    <path d=\"M18.56 5.44l.94 2.06.94-2.06 2.06-.94-2.06-.94-.94-2.06-.94 2.06-2.06.94zm-11 1L8.5 8.5l.94-2.06 2.06-.94-2.06-.94L8.5 2.5l-.94 2.06-2.06.94zm10 10l.94 2.06.94-2.06 2.06-.94-2.06-.94-.94-2.06-.94 2.06-2.06.94z\"/><path d=\"M17.41 7.96l-1.37-1.37c-.4-.4-.92-.59-1.43-.59-.52 0-1.04.2-1.43.59L10.3 9.45l-7.72 7.72c-.78.78-.78 2.05 0 2.83L4 21.41c.39.39.9.59 1.41.59.51 0 1.02-.2 1.41-.59l7.78-7.78 2.81-2.81c.8-.78.8-2.07 0-2.86zM5.41 20L4 18.59l7.72-7.72 1.47 1.35L5.41 20z\"/>\n",
              "  </svg>\n",
              "      </button>\n",
              "      \n",
              "  <style>\n",
              "    .colab-df-container {\n",
              "      display:flex;\n",
              "      flex-wrap:wrap;\n",
              "      gap: 12px;\n",
              "    }\n",
              "\n",
              "    .colab-df-convert {\n",
              "      background-color: #E8F0FE;\n",
              "      border: none;\n",
              "      border-radius: 50%;\n",
              "      cursor: pointer;\n",
              "      display: none;\n",
              "      fill: #1967D2;\n",
              "      height: 32px;\n",
              "      padding: 0 0 0 0;\n",
              "      width: 32px;\n",
              "    }\n",
              "\n",
              "    .colab-df-convert:hover {\n",
              "      background-color: #E2EBFA;\n",
              "      box-shadow: 0px 1px 2px rgba(60, 64, 67, 0.3), 0px 1px 3px 1px rgba(60, 64, 67, 0.15);\n",
              "      fill: #174EA6;\n",
              "    }\n",
              "\n",
              "    [theme=dark] .colab-df-convert {\n",
              "      background-color: #3B4455;\n",
              "      fill: #D2E3FC;\n",
              "    }\n",
              "\n",
              "    [theme=dark] .colab-df-convert:hover {\n",
              "      background-color: #434B5C;\n",
              "      box-shadow: 0px 1px 3px 1px rgba(0, 0, 0, 0.15);\n",
              "      filter: drop-shadow(0px 1px 2px rgba(0, 0, 0, 0.3));\n",
              "      fill: #FFFFFF;\n",
              "    }\n",
              "  </style>\n",
              "\n",
              "      <script>\n",
              "        const buttonEl =\n",
              "          document.querySelector('#df-774d7702-0743-48d1-b16e-b8a8645a1dd3 button.colab-df-convert');\n",
              "        buttonEl.style.display =\n",
              "          google.colab.kernel.accessAllowed ? 'block' : 'none';\n",
              "\n",
              "        async function convertToInteractive(key) {\n",
              "          const element = document.querySelector('#df-774d7702-0743-48d1-b16e-b8a8645a1dd3');\n",
              "          const dataTable =\n",
              "            await google.colab.kernel.invokeFunction('convertToInteractive',\n",
              "                                                     [key], {});\n",
              "          if (!dataTable) return;\n",
              "\n",
              "          const docLinkHtml = 'Like what you see? Visit the ' +\n",
              "            '<a target=\"_blank\" href=https://colab.research.google.com/notebooks/data_table.ipynb>data table notebook</a>'\n",
              "            + ' to learn more about interactive tables.';\n",
              "          element.innerHTML = '';\n",
              "          dataTable['output_type'] = 'display_data';\n",
              "          await google.colab.output.renderOutput(dataTable, element);\n",
              "          const docLink = document.createElement('div');\n",
              "          docLink.innerHTML = docLinkHtml;\n",
              "          element.appendChild(docLink);\n",
              "        }\n",
              "      </script>\n",
              "    </div>\n",
              "  </div>\n",
              "  "
            ]
          },
          "metadata": {},
          "execution_count": 33
        }
      ]
    },
    {
      "cell_type": "code",
      "source": [
        "mean = 33.27\n",
        "std =16.94\n",
        "variance=287.14"
      ],
      "metadata": {
        "id": "2Kot1gcL4pdm"
      },
      "execution_count": null,
      "outputs": []
    },
    {
      "cell_type": "markdown",
      "source": [
        "##Q2"
      ],
      "metadata": {
        "id": "tTNqp4R38JTb"
      }
    },
    {
      "cell_type": "code",
      "source": [
        "# i)the inter quaratile range of this fig is from 5 to 12\n",
        "#   the IQR shows the middile half of the distribution and also shows the median as well, it is the region between 2nd and 3rd quaratiles."
      ],
      "metadata": {
        "id": "aia8QpCh8EFQ"
      },
      "execution_count": null,
      "outputs": []
    },
    {
      "cell_type": "code",
      "source": [
        "# ii) the dataset is positively skewed"
      ],
      "metadata": {
        "id": "gnZrTYg29_AD"
      },
      "execution_count": null,
      "outputs": []
    },
    {
      "cell_type": "code",
      "source": [
        "# iii) if it is 2.5 then there wont be any outliers and the data range will be from 0 to 19. \n",
        "#      also the mean will be moving a littile right, that means positive skewness will be decreasing  "
      ],
      "metadata": {
        "id": "dsisR5lk-px0"
      },
      "execution_count": null,
      "outputs": []
    },
    {
      "cell_type": "code",
      "source": [],
      "metadata": {
        "id": "5HjUvTGD8Tuh"
      },
      "execution_count": null,
      "outputs": []
    },
    {
      "cell_type": "markdown",
      "source": [
        "##Q3"
      ],
      "metadata": {
        "id": "vOduki6B8Nq4"
      }
    },
    {
      "cell_type": "code",
      "source": [
        "# i) mode is around 5 (between 4 to 7)"
      ],
      "metadata": {
        "id": "Bs4JvWnc8God"
      },
      "execution_count": null,
      "outputs": []
    },
    {
      "cell_type": "code",
      "source": [
        "# ii) the data is positively skewed"
      ],
      "metadata": {
        "id": "yBUkLMHVBJgv"
      },
      "execution_count": null,
      "outputs": []
    },
    {
      "cell_type": "code",
      "source": [
        "# iii) both the data are having same outlier(25), there median and mode are also similar."
      ],
      "metadata": {
        "id": "n-doR3WmBJSs"
      },
      "execution_count": null,
      "outputs": []
    },
    {
      "cell_type": "markdown",
      "source": [
        "##Q4"
      ],
      "metadata": {
        "id": "ZndzF3Fb8QFm"
      }
    },
    {
      "cell_type": "code",
      "source": [
        "pa=1/200 #pa is the probability of having one misdirected call in 200 calls\n",
        "s=1-pa\n",
        "s   #probability of having atleast one succesful call"
      ],
      "metadata": {
        "id": "A-6IuG8E8Gvu",
        "colab": {
          "base_uri": "https://localhost:8080/"
        },
        "outputId": "a063f751-2127-4ddb-acac-d0897bd522e6"
      },
      "execution_count": null,
      "outputs": [
        {
          "output_type": "execute_result",
          "data": {
            "text/plain": [
              "0.995"
            ]
          },
          "metadata": {},
          "execution_count": 40
        }
      ]
    },
    {
      "cell_type": "code",
      "source": [
        "y=1-(.995**5)\n",
        "y   #probability that at least one in five attempted telephone calls reaches the wrong number"
      ],
      "metadata": {
        "colab": {
          "base_uri": "https://localhost:8080/"
        },
        "id": "-PEUpVcz7SQv",
        "outputId": "dae83147-b49d-4bd8-853a-e43b8170a24d"
      },
      "execution_count": null,
      "outputs": [
        {
          "output_type": "execute_result",
          "data": {
            "text/plain": [
              "0.02475124687812502"
            ]
          },
          "metadata": {},
          "execution_count": 45
        }
      ]
    },
    {
      "cell_type": "markdown",
      "source": [
        "##Q5"
      ],
      "metadata": {
        "id": "jtIHrMJ4Efw6"
      }
    },
    {
      "cell_type": "code",
      "source": [
        "# i) the most likely monetary outcome is 2000 dollars"
      ],
      "metadata": {
        "id": "71wX4wFwEg4I"
      },
      "execution_count": null,
      "outputs": []
    },
    {
      "cell_type": "code",
      "source": [
        "# ii) yes, there are 60% chances are there for getting profit"
      ],
      "metadata": {
        "id": "mf4_2ZPJEmI9"
      },
      "execution_count": null,
      "outputs": []
    },
    {
      "cell_type": "code",
      "source": [
        "# iii) according to the probabilities 60% chance is there for profit and the average profit could is upto 8000 dollars"
      ],
      "metadata": {
        "id": "Eezn5AbjEm1Z"
      },
      "execution_count": null,
      "outputs": []
    },
    {
      "cell_type": "code",
      "source": [
        "import math\n",
        "x=(-2000,-1000,0,1000,2000,3000)"
      ],
      "metadata": {
        "id": "P1KcR0xuw-vq"
      },
      "execution_count": null,
      "outputs": []
    },
    {
      "cell_type": "code",
      "source": [
        "m=sum(x)/len(x)\n",
        "s=[]\n",
        "for i in x:\n",
        "  s.append((i-m)**2)\n",
        "var=sum(s)/len(x)\n",
        "var"
      ],
      "metadata": {
        "colab": {
          "base_uri": "https://localhost:8080/"
        },
        "id": "bZ4l2p7_z7Ny",
        "outputId": "1fb5ee94-e00b-49e3-e960-f2b960df2d65"
      },
      "execution_count": null,
      "outputs": [
        {
          "output_type": "execute_result",
          "data": {
            "text/plain": [
              "2916666.6666666665"
            ]
          },
          "metadata": {},
          "execution_count": 35
        }
      ]
    },
    {
      "cell_type": "code",
      "source": [
        "st=math.sqrt(r)\n",
        "st"
      ],
      "metadata": {
        "colab": {
          "base_uri": "https://localhost:8080/"
        },
        "id": "euHyTK2P1SBb",
        "outputId": "7d187d4d-f2e6-413b-82e7-503c05af551b"
      },
      "execution_count": null,
      "outputs": [
        {
          "output_type": "execute_result",
          "data": {
            "text/plain": [
              "1707.825127659933"
            ]
          },
          "metadata": {},
          "execution_count": 36
        }
      ]
    },
    {
      "cell_type": "code",
      "source": [
        "# iv) there is chance for not getting any loss,which is a good risk."
      ],
      "metadata": {
        "id": "tl1gI8s9FOQH"
      },
      "execution_count": null,
      "outputs": []
    },
    {
      "cell_type": "code",
      "source": [],
      "metadata": {
        "id": "TM78T1kuFOiX"
      },
      "execution_count": null,
      "outputs": []
    },
    {
      "cell_type": "markdown",
      "source": [
        "#**Set 2**"
      ],
      "metadata": {
        "id": "u2H8zUCCHWIB"
      }
    },
    {
      "cell_type": "markdown",
      "source": [
        "##Q1"
      ],
      "metadata": {
        "id": "29XyYxt3HXGV"
      }
    },
    {
      "cell_type": "code",
      "source": [
        "from scipy import stats\n",
        "1-stats.norm.cdf(50,45,8)\n",
        "# there is 26.6% probability that the manager could not give the car within 1hr"
      ],
      "metadata": {
        "colab": {
          "base_uri": "https://localhost:8080/"
        },
        "id": "qF5RvQVUHX_-",
        "outputId": "ad8d4cee-7275-4157-b99a-6baef9870d40"
      },
      "execution_count": null,
      "outputs": [
        {
          "output_type": "execute_result",
          "data": {
            "text/plain": [
              "0.26598552904870054"
            ]
          },
          "metadata": {},
          "execution_count": 7
        }
      ]
    },
    {
      "cell_type": "markdown",
      "source": [
        "##Q2"
      ],
      "metadata": {
        "id": "cjhQ4chCHsVD"
      }
    },
    {
      "cell_type": "code",
      "source": [
        "#probability of employees with age greater than 44\n",
        "1-stats.norm.cdf(44,38,6)   #(63.44 employees)"
      ],
      "metadata": {
        "colab": {
          "base_uri": "https://localhost:8080/"
        },
        "id": "KFrU133sHYiw",
        "outputId": "d455863f-85cc-4f70-84b9-66045d795a97"
      },
      "execution_count": null,
      "outputs": [
        {
          "output_type": "execute_result",
          "data": {
            "text/plain": [
              "0.15865525393145707"
            ]
          },
          "metadata": {},
          "execution_count": 8
        }
      ]
    },
    {
      "cell_type": "code",
      "source": [
        "#probability of employees with age less than 44\n",
        "stats.norm.cdf(44,38,6)   #(336.52 employees)"
      ],
      "metadata": {
        "colab": {
          "base_uri": "https://localhost:8080/"
        },
        "id": "MeHGrIszaaBQ",
        "outputId": "fe5ce741-634c-49d7-999e-b59d30c49450"
      },
      "execution_count": null,
      "outputs": [
        {
          "output_type": "execute_result",
          "data": {
            "text/plain": [
              "0.8413447460685429"
            ]
          },
          "metadata": {},
          "execution_count": 9
        }
      ]
    },
    {
      "cell_type": "code",
      "source": [
        "#probability of employees with age less than 38\n",
        "stats.norm.cdf(38,38,6)    #(200 employees)"
      ],
      "metadata": {
        "colab": {
          "base_uri": "https://localhost:8080/"
        },
        "id": "rBshBRn2aZmL",
        "outputId": "13e93b9e-72ab-4ae8-a77b-4fdc5045eac2"
      },
      "execution_count": null,
      "outputs": [
        {
          "output_type": "execute_result",
          "data": {
            "text/plain": [
              "0.5"
            ]
          },
          "metadata": {},
          "execution_count": 10
        }
      ]
    },
    {
      "cell_type": "code",
      "source": [
        "#probability of employees with age between 38 and 44\n",
        "0.8413-0.5    #(136.52 employees)"
      ],
      "metadata": {
        "colab": {
          "base_uri": "https://localhost:8080/"
        },
        "id": "9TY1FMJGbIVG",
        "outputId": "548fc58f-d070-495c-8a8f-4f75bc426d86"
      },
      "execution_count": null,
      "outputs": [
        {
          "output_type": "execute_result",
          "data": {
            "text/plain": [
              "0.34130000000000005"
            ]
          },
          "metadata": {},
          "execution_count": 11
        }
      ]
    },
    {
      "cell_type": "markdown",
      "source": [
        "A)"
      ],
      "metadata": {
        "id": "9WTfZY85dZ56"
      }
    },
    {
      "cell_type": "code",
      "source": [
        "# 15.86% (63.44 employees) employees are above 44 yrs old and 34.13% (136.52 employees) employees are between the age of 38 to 44, so the satatment is wrong."
      ],
      "metadata": {
        "id": "BEuZhj72bvWr"
      },
      "execution_count": null,
      "outputs": []
    },
    {
      "cell_type": "markdown",
      "source": [
        "B)"
      ],
      "metadata": {
        "id": "CfsZfMDbde7H"
      }
    },
    {
      "cell_type": "code",
      "source": [
        "# probability of employees below the age of 30\n",
        "stats.norm.cdf(30,38,6)   #(36.48 employees)"
      ],
      "metadata": {
        "colab": {
          "base_uri": "https://localhost:8080/"
        },
        "id": "AIXj5yv7bvCb",
        "outputId": "ba935c9c-696b-4e85-8c8b-10aec3fc723b"
      },
      "execution_count": null,
      "outputs": [
        {
          "output_type": "execute_result",
          "data": {
            "text/plain": [
              "0.09121121972586788"
            ]
          },
          "metadata": {},
          "execution_count": 12
        }
      ]
    },
    {
      "cell_type": "code",
      "source": [
        "# there are 36 employees below the age of 30,so the statment is true"
      ],
      "metadata": {
        "id": "DS8cezFxeDh2"
      },
      "execution_count": null,
      "outputs": []
    },
    {
      "cell_type": "markdown",
      "source": [
        "##Q3"
      ],
      "metadata": {
        "id": "uE9rzE9YHurP"
      }
    },
    {
      "cell_type": "code",
      "source": [
        "#  2X1 and X1+X2 are same, the output of both methods will same."
      ],
      "metadata": {
        "id": "4KhEuKNrHY8k"
      },
      "execution_count": null,
      "outputs": []
    },
    {
      "cell_type": "markdown",
      "source": [
        "##Q4"
      ],
      "metadata": {
        "id": "HffKfNFOHxfi"
      }
    },
    {
      "cell_type": "code",
      "source": [
        "# the z value was 0.99 so the Xi value is 119.8, so the b value is 119.8\n",
        "#(x-100)20=120\n",
        "#therefore the a= 80.2 and b=119.8, i.e option B"
      ],
      "metadata": {
        "id": "k5WWC6YeHZgv"
      },
      "execution_count": null,
      "outputs": []
    },
    {
      "cell_type": "markdown",
      "source": [
        "##Q5"
      ],
      "metadata": {
        "id": "N2hPFYj3mA8j"
      }
    },
    {
      "cell_type": "markdown",
      "source": [
        "A)"
      ],
      "metadata": {
        "id": "0WljrO6Sn2q6"
      }
    },
    {
      "cell_type": "code",
      "source": [
        "from scipy import stats\n",
        "stats.norm.interval(.95,5,3)"
      ],
      "metadata": {
        "id": "JikjjCC3mFyu",
        "colab": {
          "base_uri": "https://localhost:8080/"
        },
        "outputId": "d5f656d9-4405-4f73-d06d-c5946f1a33a5"
      },
      "execution_count": null,
      "outputs": [
        {
          "output_type": "execute_result",
          "data": {
            "text/plain": [
              "(-0.8798919536201621, 10.879891953620163)"
            ]
          },
          "metadata": {},
          "execution_count": 3
        }
      ]
    },
    {
      "cell_type": "code",
      "source": [
        "stats.norm.interval(.95,7,4)"
      ],
      "metadata": {
        "colab": {
          "base_uri": "https://localhost:8080/"
        },
        "id": "GfM2H5polhwK",
        "outputId": "69aff4f3-8507-4788-dcae-e277911f893e"
      },
      "execution_count": null,
      "outputs": [
        {
          "output_type": "execute_result",
          "data": {
            "text/plain": [
              "(-0.8398559381602162, 14.839855938160216)"
            ]
          },
          "metadata": {},
          "execution_count": 4
        }
      ]
    },
    {
      "cell_type": "code",
      "source": [
        "10.88+14.84=25.72\n",
        "# the annual profit will be with 95% probability is Rs1157.4 million"
      ],
      "metadata": {
        "id": "ModJc37Slhjo"
      },
      "execution_count": null,
      "outputs": []
    },
    {
      "cell_type": "markdown",
      "source": [
        "B)"
      ],
      "metadata": {
        "id": "DecWjxgtqoGL"
      }
    },
    {
      "cell_type": "code",
      "source": [
        "stats.norm.interval(.05,5,3)"
      ],
      "metadata": {
        "colab": {
          "base_uri": "https://localhost:8080/"
        },
        "id": "PVAF40rhnnoU",
        "outputId": "80e72206-7358-4a4f-8e43-4def52e908d3"
      },
      "execution_count": null,
      "outputs": [
        {
          "output_type": "execute_result",
          "data": {
            "text/plain": [
              "(4.811879666170358, 5.188120333829642)"
            ]
          },
          "metadata": {},
          "execution_count": 5
        }
      ]
    },
    {
      "cell_type": "code",
      "source": [
        "stats.norm.interval(.05,7,4)"
      ],
      "metadata": {
        "colab": {
          "base_uri": "https://localhost:8080/"
        },
        "id": "NQIKiI9Cnnk6",
        "outputId": "c9a06650-04fe-468c-f8cc-1ce134564cd0"
      },
      "execution_count": null,
      "outputs": [
        {
          "output_type": "execute_result",
          "data": {
            "text/plain": [
              "(6.749172888227145, 7.250827111772855)"
            ]
          },
          "metadata": {},
          "execution_count": 6
        }
      ]
    },
    {
      "cell_type": "code",
      "source": [
        "5.19+7.25=12.44\n",
        "# for 5% probability the annual profit will be Rs 559.8 million"
      ],
      "metadata": {
        "id": "zu5kut8tqnYt"
      },
      "execution_count": null,
      "outputs": []
    },
    {
      "cell_type": "markdown",
      "source": [
        "C)"
      ],
      "metadata": {
        "id": "C6R9xBo0q6UL"
      }
    },
    {
      "cell_type": "code",
      "source": [
        "# the second company is having higher chance of getting loss"
      ],
      "metadata": {
        "id": "S1MXMhINrBN6"
      },
      "execution_count": null,
      "outputs": []
    },
    {
      "cell_type": "markdown",
      "source": [
        "#**Set 3**"
      ],
      "metadata": {
        "id": "ZK9-pT-IsQQc"
      }
    },
    {
      "cell_type": "markdown",
      "source": [
        "##Q1"
      ],
      "metadata": {
        "id": "KNoOjUbDsRG6"
      }
    },
    {
      "cell_type": "code",
      "source": [
        "# I)False, it is not possible because the results depend on the size of the sample. The sample size should have at least 30 observations"
      ],
      "metadata": {
        "id": "ieKROIvwsd8H"
      },
      "execution_count": null,
      "outputs": []
    },
    {
      "cell_type": "code",
      "source": [
        "# II) False, not responded survey results are not included in samples because it is not useful. \n",
        "#     Also all the data from the survey are not included in the sample, only randomly selected responds are used in sample."
      ],
      "metadata": {
        "id": "4t9GmBXnoUR_"
      },
      "execution_count": null,
      "outputs": []
    },
    {
      "cell_type": "code",
      "source": [
        "# III) True "
      ],
      "metadata": {
        "id": "5bq7mud6oUD3"
      },
      "execution_count": null,
      "outputs": []
    },
    {
      "cell_type": "markdown",
      "source": [
        "##Q2"
      ],
      "metadata": {
        "id": "8gbI-n6WsftY"
      }
    },
    {
      "cell_type": "code",
      "source": [
        "# A) 9000"
      ],
      "metadata": {
        "id": "E3lXxMHkseEz"
      },
      "execution_count": null,
      "outputs": []
    },
    {
      "cell_type": "code",
      "source": [
        "# B) 1 to 10"
      ],
      "metadata": {
        "id": "9YrOHvDrrNl-"
      },
      "execution_count": null,
      "outputs": []
    },
    {
      "cell_type": "code",
      "source": [
        "# C) compact digital camera"
      ],
      "metadata": {
        "id": "JyLmbrgurNKW"
      },
      "execution_count": null,
      "outputs": []
    },
    {
      "cell_type": "code",
      "source": [
        "# D) 225"
      ],
      "metadata": {
        "id": "9tHuQKkvrM9z"
      },
      "execution_count": null,
      "outputs": []
    },
    {
      "cell_type": "code",
      "source": [
        "# E) random sampling or average "
      ],
      "metadata": {
        "id": "MBJVtJLarMNJ"
      },
      "execution_count": null,
      "outputs": []
    },
    {
      "cell_type": "code",
      "source": [
        "# F) each brand will be having different product, the product is not specified during the survey"
      ],
      "metadata": {
        "id": "krC5bFuIrL6E"
      },
      "execution_count": null,
      "outputs": []
    },
    {
      "cell_type": "markdown",
      "source": [
        "##Q3"
      ],
      "metadata": {
        "id": "S4Rzk0hpsiZk"
      }
    },
    {
      "cell_type": "code",
      "source": [
        "# I) true"
      ],
      "metadata": {
        "id": "GaKRr4iksef1"
      },
      "execution_count": null,
      "outputs": []
    },
    {
      "cell_type": "code",
      "source": [
        "# II) False,$100 is a plausible value for the population mean at 95% level of confidence."
      ],
      "metadata": {
        "id": "sIg576tmvjWe"
      },
      "execution_count": null,
      "outputs": []
    },
    {
      "cell_type": "code",
      "source": [
        "# III) False, considering the central limit theorem implies that the sampling distribution is normal regardless of the data itself."
      ],
      "metadata": {
        "id": "S7m8SfszvkGe"
      },
      "execution_count": null,
      "outputs": []
    },
    {
      "cell_type": "markdown",
      "source": [
        "##Q4"
      ],
      "metadata": {
        "id": "_t56pA43p5bx"
      }
    },
    {
      "cell_type": "code",
      "source": [
        "B"
      ],
      "metadata": {
        "id": "I3SFsZLRp1VK"
      },
      "execution_count": null,
      "outputs": []
    },
    {
      "cell_type": "markdown",
      "source": [
        "##Q5"
      ],
      "metadata": {
        "id": "2gHc8euYp7zU"
      }
    },
    {
      "cell_type": "code",
      "source": [
        "# I) no"
      ],
      "metadata": {
        "id": "M5vy-kv2p18u"
      },
      "execution_count": null,
      "outputs": []
    },
    {
      "cell_type": "code",
      "source": [
        "# II) yes"
      ],
      "metadata": {
        "id": "L1o1tMTvCF6j"
      },
      "execution_count": null,
      "outputs": []
    },
    {
      "cell_type": "markdown",
      "source": [
        "##Q6"
      ],
      "metadata": {
        "id": "-c2TMiinp-BP"
      }
    },
    {
      "cell_type": "code",
      "source": [
        "# C is true"
      ],
      "metadata": {
        "id": "dR7ENOFZp2H6"
      },
      "execution_count": null,
      "outputs": []
    },
    {
      "cell_type": "markdown",
      "source": [
        "##Q7"
      ],
      "metadata": {
        "id": "kWpY3QwxqAEF"
      }
    },
    {
      "cell_type": "code",
      "source": [
        "# A) Z interval is shorter"
      ],
      "metadata": {
        "id": "6XJTr3dBp2Wy"
      },
      "execution_count": null,
      "outputs": []
    },
    {
      "cell_type": "markdown",
      "source": [
        "##Q8"
      ],
      "metadata": {
        "id": "j-bEotE1qCHD"
      }
    },
    {
      "cell_type": "code",
      "source": [
        "# n=[[(1.96)^2]*(0.5)*(1-0.5)]/(0.04)^2 = 600\n",
        "\n",
        "# A)600 "
      ],
      "metadata": {
        "id": "qLf8H1Nop4K8"
      },
      "execution_count": null,
      "outputs": []
    },
    {
      "cell_type": "markdown",
      "source": [
        "##Q9"
      ],
      "metadata": {
        "id": "q18Uo5VVqD0H"
      }
    },
    {
      "cell_type": "code",
      "source": [
        "# n=[[(2.326)^2]*(0.5)*(1-0.5)]/(0.04)^2 = 848\n",
        "\n",
        "# C)848"
      ],
      "metadata": {
        "id": "Nkb-KdUnp4Ff"
      },
      "execution_count": null,
      "outputs": []
    },
    {
      "cell_type": "code",
      "source": [],
      "metadata": {
        "id": "KQNsjQB9p2xX"
      },
      "execution_count": null,
      "outputs": []
    },
    {
      "cell_type": "markdown",
      "source": [
        "#**Set 4**"
      ],
      "metadata": {
        "id": "Qu1i5IUbKD93"
      }
    },
    {
      "cell_type": "markdown",
      "source": [
        "##Q1"
      ],
      "metadata": {
        "id": "HvRmQprUKEcm"
      }
    },
    {
      "cell_type": "code",
      "source": [
        "# I) C,D"
      ],
      "metadata": {
        "id": "HPR9yESUKUKN"
      },
      "execution_count": null,
      "outputs": []
    },
    {
      "cell_type": "code",
      "source": [
        "# II) D"
      ],
      "metadata": {
        "id": "Mg6aNLyxnbdd"
      },
      "execution_count": null,
      "outputs": []
    },
    {
      "cell_type": "code",
      "source": [
        "# III) A,B"
      ],
      "metadata": {
        "id": "YH1vJzXqnbNn"
      },
      "execution_count": null,
      "outputs": []
    },
    {
      "cell_type": "code",
      "source": [
        "# IV) A,B"
      ],
      "metadata": {
        "id": "YQgTLc63na_C"
      },
      "execution_count": null,
      "outputs": []
    },
    {
      "cell_type": "markdown",
      "source": [
        "##Q2"
      ],
      "metadata": {
        "id": "2iJwWAnCKV53"
      }
    },
    {
      "cell_type": "code",
      "source": [
        "# i) False"
      ],
      "metadata": {
        "id": "HpqOKTWBKXIr"
      },
      "execution_count": null,
      "outputs": []
    },
    {
      "cell_type": "code",
      "source": [
        "# ii) True"
      ],
      "metadata": {
        "id": "rWUMTIiGqi2r"
      },
      "execution_count": null,
      "outputs": []
    },
    {
      "cell_type": "markdown",
      "source": [
        "##Q3"
      ],
      "metadata": {
        "id": "z3LqSCXRKYRw"
      }
    },
    {
      "cell_type": "code",
      "source": [
        "from scipy import stats\n",
        "stats.norm.cdf(55,50,4)  #p(x<55)"
      ],
      "metadata": {
        "colab": {
          "base_uri": "https://localhost:8080/"
        },
        "id": "yp22Xh-1Gd6z",
        "outputId": "1979a6b5-7a53-47e5-8208-e490b1a4d413"
      },
      "execution_count": 1,
      "outputs": [
        {
          "output_type": "execute_result",
          "data": {
            "text/plain": [
              "0.8943502263331446"
            ]
          },
          "metadata": {},
          "execution_count": 1
        }
      ]
    },
    {
      "cell_type": "code",
      "source": [
        "stats.norm.cdf(45,50,4)  #p(x<45)"
      ],
      "metadata": {
        "colab": {
          "base_uri": "https://localhost:8080/"
        },
        "id": "6y1VveJ8Gd3S",
        "outputId": "2a8ea2fe-fb5e-41c0-ae69-84cc157c7dca"
      },
      "execution_count": 2,
      "outputs": [
        {
          "output_type": "execute_result",
          "data": {
            "text/plain": [
              "0.10564977366685535"
            ]
          },
          "metadata": {},
          "execution_count": 2
        }
      ]
    },
    {
      "cell_type": "code",
      "source": [
        "(stats.norm.cdf(55,50,4)-stats.norm.cdf(45,50,4))  #p(45<x<55)"
      ],
      "metadata": {
        "id": "S8n5-IovKY77",
        "colab": {
          "base_uri": "https://localhost:8080/"
        },
        "outputId": "c27f1452-8c18-43a1-d643-6ad701a6a1cd"
      },
      "execution_count": 4,
      "outputs": [
        {
          "output_type": "execute_result",
          "data": {
            "text/plain": [
              "0.7887004526662893"
            ]
          },
          "metadata": {},
          "execution_count": 4
        }
      ]
    },
    {
      "cell_type": "code",
      "source": [
        "1-0.7887  #there are 78.87% chance that there will be an investigation"
      ],
      "metadata": {
        "colab": {
          "base_uri": "https://localhost:8080/"
        },
        "id": "hO8XIxOdJVDa",
        "outputId": "96674b87-0bff-4276-a041-e0a9c99ca081"
      },
      "execution_count": 5,
      "outputs": [
        {
          "output_type": "execute_result",
          "data": {
            "text/plain": [
              "0.21130000000000004"
            ]
          },
          "metadata": {},
          "execution_count": 5
        }
      ]
    },
    {
      "cell_type": "code",
      "source": [
        "#  D) 21.1%"
      ],
      "metadata": {
        "id": "eDiHZe4xsnD_"
      },
      "execution_count": null,
      "outputs": []
    },
    {
      "cell_type": "markdown",
      "source": [
        "##Q4"
      ],
      "metadata": {
        "id": "pwm-pIs_KaAa"
      }
    },
    {
      "cell_type": "code",
      "source": [
        "# D) 250       n=(5*40)+50"
      ],
      "metadata": {
        "id": "6OoHhO5TKbIl"
      },
      "execution_count": null,
      "outputs": []
    },
    {
      "cell_type": "markdown",
      "source": [
        "##Q5"
      ],
      "metadata": {
        "id": "5FTafsARKy7n"
      }
    },
    {
      "cell_type": "code",
      "source": [],
      "metadata": {
        "id": "C56Ra6h0j5VC"
      },
      "execution_count": null,
      "outputs": []
    },
    {
      "cell_type": "code",
      "source": [
        "# D) true"
      ],
      "metadata": {
        "id": "ygBtf615Y68f"
      },
      "execution_count": null,
      "outputs": []
    }
  ]
}